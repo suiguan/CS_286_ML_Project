{
 "cells": [
  {
   "cell_type": "code",
   "execution_count": 14,
   "metadata": {},
   "outputs": [],
   "source": [
    "import os\n",
    "\n",
    "class FeatureMgr:\n",
    "    def __init__(self, featureIndex, exIdx=None, exList=[]):\n",
    "        self.featureIndex = featureIndex\n",
    "        self.featureDict = {}\n",
    "        self.featureValue = 0\n",
    "        self.exList = exList\n",
    "        \n",
    "    def getFeature(self, featureStr):\n",
    "        if not featureStr in self.featureDict:\n",
    "            print(\"Unique feature found = \", featureStr)\n",
    "            self.featureDict[featureStr] = self.featureValue\n",
    "            self.featureValue += 1\n",
    "        return self.featureDict[featureStr]\n",
    "    \n",
    "    def getFeatureList(self, fname):\n",
    "        ret = []\n",
    "        f = open(fname, 'r')\n",
    "        headerLine = True\n",
    "        for line in f:\n",
    "            if headerLine: #skip first header line in the csv file \n",
    "                headerLine = False\n",
    "                continue\n",
    "            line = line.strip()\n",
    "            tokens = line.split(',')\n",
    "            if exIdx != None and tokens[exIdx] in self.exList: continue #skip the one we wants to exclude\n",
    "            ret.append(self.getFeature(tokens[featureIndex]))\n",
    "        f.close()\n",
    "        return ret"
   ]
  },
  {
   "cell_type": "code",
   "execution_count": 15,
   "metadata": {},
   "outputs": [],
   "source": [
    "#because real browsers HTTP requests have these unique paths that malware samples does not have\n",
    "#we just skip those for the benign samples or otherwise it would be easy for our model... \n",
    "exIdx = 3 #path\n",
    "exList = [\"/\", \"/favicon.ico\"]\n",
    "\n",
    "#featureIndex = 5 #user-agent\n",
    "#path5fold = \"UserAgentFiveFoldData/\"\n",
    "featureIndex = 3 #path\n",
    "path5fold = \"PathFiveFoldData/\"\n",
    "os.makedirs(path5fold)\n",
    "\n",
    "\n",
    "fm = FeatureMgr(featureIndex, exIdx, exList)"
   ]
  },
  {
   "cell_type": "code",
   "execution_count": 16,
   "metadata": {},
   "outputs": [
    {
     "name": "stdout",
     "output_type": "stream",
     "text": [
      "Unique feature found =  /?btn8=8\n",
      "Unique feature found =  /?btn2=2\n",
      "Unique feature found =  /?btn5=5\n",
      "Unique feature found =  /?btn3=3\n",
      "Unique feature found =  /?btn7=7\n",
      "Unique feature found =  /?btn6=6\n",
      "Unique feature found =  /?btn4=4\n",
      "Unique feature found =  /?btn1=1\n",
      "1093\n"
     ]
    }
   ],
   "source": [
    "malware1 = fm.getFeatureList('malware1_v2.csv')\n",
    "print(len(malware1))"
   ]
  },
  {
   "cell_type": "code",
   "execution_count": 17,
   "metadata": {},
   "outputs": [
    {
     "name": "stdout",
     "output_type": "stream",
     "text": [
      "827\n"
     ]
    }
   ],
   "source": [
    "malware2 = fm.getFeatureList('malware2_v2.csv')\n",
    "print(len(malware2))"
   ]
  },
  {
   "cell_type": "code",
   "execution_count": 18,
   "metadata": {},
   "outputs": [
    {
     "name": "stdout",
     "output_type": "stream",
     "text": [
      "173\n"
     ]
    }
   ],
   "source": [
    "benign = fm.getFeatureList('benign.csv')\n",
    "print(len(benign))"
   ]
  },
  {
   "cell_type": "code",
   "execution_count": 19,
   "metadata": {},
   "outputs": [
    {
     "name": "stdout",
     "output_type": "stream",
     "text": [
      "45\n"
     ]
    }
   ],
   "source": [
    "benign1 = fm.getFeatureList('benign1.csv')\n",
    "print(len(benign1))"
   ]
  },
  {
   "cell_type": "code",
   "execution_count": 20,
   "metadata": {},
   "outputs": [
    {
     "name": "stdout",
     "output_type": "stream",
     "text": [
      "106\n"
     ]
    }
   ],
   "source": [
    "benign2 = fm.getFeatureList('benign2.csv')\n",
    "print(len(benign2))"
   ]
  },
  {
   "cell_type": "code",
   "execution_count": 21,
   "metadata": {},
   "outputs": [
    {
     "name": "stdout",
     "output_type": "stream",
     "text": [
      "125\n"
     ]
    }
   ],
   "source": [
    "benign3 = fm.getFeatureList('benign3.csv')\n",
    "print(len(benign3))"
   ]
  },
  {
   "cell_type": "code",
   "execution_count": 22,
   "metadata": {},
   "outputs": [
    {
     "name": "stdout",
     "output_type": "stream",
     "text": [
      "93\n"
     ]
    }
   ],
   "source": [
    "benign4 = fm.getFeatureList('benign4.csv')\n",
    "print(len(benign4))"
   ]
  },
  {
   "cell_type": "code",
   "execution_count": 23,
   "metadata": {},
   "outputs": [
    {
     "name": "stdout",
     "output_type": "stream",
     "text": [
      "1920\n",
      "5 fold = 384 384 384 384 384\n"
     ]
    }
   ],
   "source": [
    "#create 5 folds on combined malware\n",
    "malware = malware1 + malware2\n",
    "print(len(malware))\n",
    "fold_size = int(len(malware) / 5)\n",
    "malware_fold1 = malware[0:fold_size]\n",
    "malware_fold2 = malware[fold_size:fold_size*2]\n",
    "malware_fold3 = malware[fold_size*2:fold_size*3]\n",
    "malware_fold4 = malware[fold_size*3:fold_size*4]\n",
    "malware_fold5 = malware[fold_size*4:]\n",
    "print(\"5 fold = %d %d %d %d %d\" %\\\n",
    "      (len(malware_fold1), len(malware_fold2), len(malware_fold3), len(malware_fold4), len(malware_fold5),))"
   ]
  },
  {
   "cell_type": "code",
   "execution_count": 24,
   "metadata": {},
   "outputs": [
    {
     "name": "stdout",
     "output_type": "stream",
     "text": [
      "PathFiveFoldData/m1.txt has 384\n",
      "PathFiveFoldData/m2.txt has 384\n",
      "PathFiveFoldData/m3.txt has 384\n",
      "PathFiveFoldData/m4.txt has 384\n",
      "PathFiveFoldData/m5.txt has 384\n",
      "PathFiveFoldData/b1.txt has 173\n",
      "PathFiveFoldData/b2.txt has 45\n",
      "PathFiveFoldData/b3.txt has 106\n",
      "PathFiveFoldData/b4.txt has 125\n",
      "PathFiveFoldData/b5.txt has 93\n",
      "done\n"
     ]
    }
   ],
   "source": [
    "#save the 5 fold data for HMM\n",
    "def dumpFile(fname, features):\n",
    "    s = \"\"\n",
    "    num = 0\n",
    "    for v in features: \n",
    "        s += '%d,' % v\n",
    "        num += 1\n",
    "    with open(fname, \"w\") as f: f.write(s)\n",
    "    print(\"%s has %d\" % (fname, num))\n",
    "\n",
    "dumpFile(path5fold+\"m1.txt\", malware_fold1)\n",
    "dumpFile(path5fold+\"m2.txt\", malware_fold2)\n",
    "dumpFile(path5fold+\"m3.txt\", malware_fold3)\n",
    "dumpFile(path5fold+\"m4.txt\", malware_fold4)\n",
    "dumpFile(path5fold+\"m5.txt\", malware_fold5)\n",
    "dumpFile(path5fold+\"b1.txt\", benign)\n",
    "dumpFile(path5fold+\"b2.txt\", benign1)\n",
    "dumpFile(path5fold+\"b3.txt\", benign2)\n",
    "dumpFile(path5fold+\"b4.txt\", benign3)\n",
    "dumpFile(path5fold+\"b5.txt\", benign4)\n",
    "print('done')"
   ]
  }
 ],
 "metadata": {
  "kernelspec": {
   "display_name": "keras-tf",
   "language": "python",
   "name": "keras-tf"
  },
  "language_info": {
   "codemirror_mode": {
    "name": "ipython",
    "version": 3
   },
   "file_extension": ".py",
   "mimetype": "text/x-python",
   "name": "python",
   "nbconvert_exporter": "python",
   "pygments_lexer": "ipython3",
   "version": "3.5.2"
  }
 },
 "nbformat": 4,
 "nbformat_minor": 2
}
