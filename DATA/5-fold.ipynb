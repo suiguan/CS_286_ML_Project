{
 "cells": [
  {
   "cell_type": "code",
   "execution_count": 8,
   "metadata": {},
   "outputs": [],
   "source": [
    "class FeatureMgr:\n",
    "    def __init__(self, featureIndex):\n",
    "        self.featureIndex = featureIndex\n",
    "        self.featureDict = {}\n",
    "        self.featureValue = 0\n",
    "        \n",
    "    def getFeature(self, featureStr):\n",
    "        if not featureStr in self.featureDict:\n",
    "            print(\"Unique feature found = \", featureStr)\n",
    "            self.featureDict[featureStr] = self.featureValue\n",
    "            self.featureValue += 1\n",
    "        return self.featureDict[featureStr]\n",
    "    \n",
    "    def getFeatureList(self, fname):\n",
    "        ret = []\n",
    "        f = open(fname, 'r')\n",
    "        headerLine = True\n",
    "        for line in f:\n",
    "            if headerLine: #skip first header line in the csv file \n",
    "                headerLine = False\n",
    "                continue\n",
    "            line = line.strip()\n",
    "            tokens = line.split(',')\n",
    "            ret.append(self.getFeature(tokens[featureIndex]))\n",
    "        f.close()\n",
    "        return ret"
   ]
  },
  {
   "cell_type": "code",
   "execution_count": 24,
   "metadata": {},
   "outputs": [],
   "source": [
    "featureIndex = 5 #user-agent\n",
    "fm = FeatureMgr(featureIndex)"
   ]
  },
  {
   "cell_type": "code",
   "execution_count": 25,
   "metadata": {},
   "outputs": [
    {
     "name": "stdout",
     "output_type": "stream",
     "text": [
      "Unique feature found =  Mozilla/5.0 (iPhone; CPU iPhone OS 11_4 like Mac OS X) AppleWebKit/605.1.15 (KHTML. like Gecko) Version/11.0 Mobile/15E148 Safari/604.1\n",
      "Unique feature found =  Mozilla/5.0 (Windows NT 10.0; Win64; x64; rv:62.0) Gecko/20100101 Firefox/62.0\n",
      "Unique feature found =  Mozilla/5.0 (Linux; Android 8.0.0) AppleWebKit/537.36 (KHTML. like Gecko) Version/4.0 Chrome/69.0.3497.100 Mobile Safari/537.36\n",
      "Unique feature found =  Mozilla/5.0 (Windows NT 10.0; Win64; x64) AppleWebKit/537.36 (KHTML. like Gecko) Chrome/69.0.3497.100 Safari/537.36\n",
      "Unique feature found =  Mozilla/5.0 (Windows NT 10.0; Win64; x64) AppleWebKit/537.36 (KHTML. like Gecko) Chrome/58.0.3029.110 Safari/537.36 Edge/16.16299\n",
      "Unique feature found =  Mozilla/5.0 (Windows NT 10.0; WOW64; Trident/7.0; rv:11.0) like Gecko\n",
      "Unique feature found =  Mozilla/5.0 (Windows NT 10.0; Win64; x64) AppleWebKit/537.36 (KHTML. like Gecko) Chrome/64.0.3282.140 Safari/537.36 Edge/17.17134\n",
      "Unique feature found =  Mozilla/5.0 (Windows NT 10.0; WOW64; Trident/7.0; Touch; USPortal; rv:11.0) like Gecko\n",
      "Unique feature found =  Mozilla/5.0 (Windows NT 10.0; WOW64; Trident/7.0; Touch; rv:11.0) like Gecko\n",
      "1093\n"
     ]
    }
   ],
   "source": [
    "malware1 = fm.getFeatureList('malware1_v2.csv')\n",
    "print(len(malware1))"
   ]
  },
  {
   "cell_type": "code",
   "execution_count": 26,
   "metadata": {},
   "outputs": [
    {
     "name": "stdout",
     "output_type": "stream",
     "text": [
      "827\n"
     ]
    }
   ],
   "source": [
    "malware2 = fm.getFeatureList('malware2_v2.csv')\n",
    "print(len(malware2))"
   ]
  },
  {
   "cell_type": "code",
   "execution_count": 28,
   "metadata": {},
   "outputs": [
    {
     "name": "stdout",
     "output_type": "stream",
     "text": [
      "449\n"
     ]
    }
   ],
   "source": [
    "benign = fm.getFeatureList('benign.csv')\n",
    "print(len(benign))"
   ]
  },
  {
   "cell_type": "code",
   "execution_count": 29,
   "metadata": {},
   "outputs": [
    {
     "name": "stdout",
     "output_type": "stream",
     "text": [
      "118\n"
     ]
    }
   ],
   "source": [
    "benign1 = fm.getFeatureList('benign1.csv')\n",
    "print(len(benign1))"
   ]
  },
  {
   "cell_type": "code",
   "execution_count": 30,
   "metadata": {},
   "outputs": [
    {
     "name": "stdout",
     "output_type": "stream",
     "text": [
      "225\n"
     ]
    }
   ],
   "source": [
    "benign2 = fm.getFeatureList('benign2.csv')\n",
    "print(len(benign2))"
   ]
  },
  {
   "cell_type": "code",
   "execution_count": 31,
   "metadata": {},
   "outputs": [
    {
     "name": "stdout",
     "output_type": "stream",
     "text": [
      "250\n"
     ]
    }
   ],
   "source": [
    "benign3 = fm.getFeatureList('benign3.csv')\n",
    "print(len(benign3))"
   ]
  },
  {
   "cell_type": "code",
   "execution_count": 32,
   "metadata": {},
   "outputs": [
    {
     "name": "stdout",
     "output_type": "stream",
     "text": [
      "245\n"
     ]
    }
   ],
   "source": [
    "benign4 = fm.getFeatureList('benign4.csv')\n",
    "print(len(benign4))"
   ]
  },
  {
   "cell_type": "code",
   "execution_count": 37,
   "metadata": {},
   "outputs": [
    {
     "name": "stdout",
     "output_type": "stream",
     "text": [
      "1920\n",
      "5 fold = 384 384 384 384 384\n"
     ]
    }
   ],
   "source": [
    "#create 5 folds on combined malware\n",
    "malware = malware1 + malware2\n",
    "print(len(malware))\n",
    "fold_size = int(len(malware) / 5)\n",
    "malware_fold1 = malware[0:fold_size]\n",
    "malware_fold2 = malware[fold_size:fold_size*2]\n",
    "malware_fold3 = malware[fold_size*2:fold_size*3]\n",
    "malware_fold4 = malware[fold_size*3:fold_size*4]\n",
    "malware_fold5 = malware[fold_size*4:]\n",
    "print(\"5 fold = %d %d %d %d %d\" %\\\n",
    "      (len(malware_fold1), len(malware_fold2), len(malware_fold3), len(malware_fold4), len(malware_fold5),))"
   ]
  },
  {
   "cell_type": "code",
   "execution_count": 39,
   "metadata": {},
   "outputs": [
    {
     "name": "stdout",
     "output_type": "stream",
     "text": [
      "done\n"
     ]
    }
   ],
   "source": [
    "import os\n",
    "\n",
    "#save the 5 fold data for HMM\n",
    "def dumpFile(fname, features):\n",
    "    s = \"\"\n",
    "    for v in features: s += '%d,' % v\n",
    "    with open(fname, \"w\") as f: f.write(s)\n",
    "        \n",
    "path = \"userAgentFiveFoldData/\"\n",
    "os.makedirs(path)\n",
    "\n",
    "dumpFile(path+\"m1.txt\", malware_fold1)\n",
    "dumpFile(path+\"m2.txt\", malware_fold2)\n",
    "dumpFile(path+\"m3.txt\", malware_fold3)\n",
    "dumpFile(path+\"m4.txt\", malware_fold4)\n",
    "dumpFile(path+\"m5.txt\", malware_fold5)\n",
    "dumpFile(path+\"b1.txt\", benign)\n",
    "dumpFile(path+\"b2.txt\", benign1)\n",
    "dumpFile(path+\"b3.txt\", benign2)\n",
    "dumpFile(path+\"b4.txt\", benign3)\n",
    "dumpFile(path+\"b5.txt\", benign4)\n",
    "print('done')"
   ]
  }
 ],
 "metadata": {
  "kernelspec": {
   "display_name": "keras-tf",
   "language": "python",
   "name": "keras-tf"
  },
  "language_info": {
   "codemirror_mode": {
    "name": "ipython",
    "version": 3
   },
   "file_extension": ".py",
   "mimetype": "text/x-python",
   "name": "python",
   "nbconvert_exporter": "python",
   "pygments_lexer": "ipython3",
   "version": "3.5.2"
  }
 },
 "nbformat": 4,
 "nbformat_minor": 2
}
